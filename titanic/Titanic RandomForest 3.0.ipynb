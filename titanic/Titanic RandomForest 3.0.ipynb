{
 "cells": [
  {
   "cell_type": "markdown",
   "metadata": {},
   "source": [
    "Following [https://www.kaggle.com/voyageth/titanic/titanic-machine-learning-from-disaster]"
   ]
  },
  {
   "cell_type": "code",
   "execution_count": 1,
   "metadata": {},
   "outputs": [],
   "source": [
    "import numpy as np\n",
    "import pandas as pd\n",
    "from sklearn.ensemble import RandomForestClassifier, ExtraTreesRegressor\n",
    "from sklearn.model_selection import KFold, cross_val_score\n",
    "import re\n",
    "import operator\n",
    "from sklearn.feature_selection import SelectKBest, f_classif"
   ]
  },
  {
   "cell_type": "code",
   "execution_count": 2,
   "metadata": {},
   "outputs": [],
   "source": [
    "train = pd.read_csv(\"input/train.csv\", dtype={\"Age\": np.float64}, )\n",
    "test = pd.read_csv(\"input/test.csv\", dtype={\"Age\": np.float64}, )\n",
    "\n",
    "target = train[\"Survived\"].values\n",
    "full = pd.concat([train, test])"
   ]
  },
  {
   "cell_type": "code",
   "execution_count": 3,
   "metadata": {},
   "outputs": [],
   "source": [
    "full['surname'] = full[\"Name\"].apply(lambda x: x.split(',')[0].lower())\n",
    "\n",
    "full[\"Title\"] = full[\"Name\"].apply(lambda x: re.search(' ([A-Za-z]+)\\.',x).group(1))\n",
    "title_mapping = {\"Mr\": 1, \"Miss\": 2, \"Mrs\": 3, \"Master\": 4, \"Dr\": 5, \"Rev\": 6, \"Major\": 7, \"Col\": 7, \"Mlle\": 2, \"Mme\": 3,\"Don\": 9,\"Dona\": 9, \"Lady\": 10, \"Countess\": 10, \"Jonkheer\": 10, \"Sir\": 9, \"Capt\": 7, \"Ms\": 2}\n",
    "full[\"TitleCat\"] = full.loc[:,'Title'].map(title_mapping)\n",
    "\n",
    "full[\"FamilySize\"] = full[\"SibSp\"] + full[\"Parch\"] + 1\n",
    "full[\"FamilySize\"] = pd.cut(full[\"FamilySize\"], bins=[0,1,4,20], labels=[0,1,2])\n",
    "\n",
    "full[\"NameLength\"] = full[\"Name\"].apply(lambda x: len(x))\n",
    "\n",
    "full[\"Embarked\"] = pd.Categorical(full.Embarked).codes\n",
    "\n",
    "full[\"Fare\"] = full[\"Fare\"].fillna(8.05)\n",
    "\n",
    "full = pd.concat([full,pd.get_dummies(full['Sex'])],axis=1)\n",
    "\n",
    "full['CabinCat'] = pd.Categorical(full.Cabin.fillna('0').apply(lambda x: x[0])).codes"
   ]
  },
  {
   "cell_type": "code",
   "execution_count": 4,
   "metadata": {
    "collapsed": true
   },
   "outputs": [],
   "source": [
    "# function to get oven/odd/null from cabine \n",
    "def get_type_cabine(cabine):\n",
    "    # Use a regular expression to search for a title. \n",
    "    cabine_search = re.search('\\d+', cabine)\n",
    "    # If the title exists, extract and return it.\n",
    "    if cabine_search:\n",
    "        num = cabine_search.group(0)\n",
    "        if np.float64(num) % 2 == 0:\n",
    "            return '2'\n",
    "        else:\n",
    "            return '1'\n",
    "    return '0'\n",
    "full[\"Cabin\"] = full[\"Cabin\"].fillna(\" \")\n",
    "\n",
    "full[\"CabinType\"] = full[\"Cabin\"].apply(get_type_cabine)"
   ]
  },
  {
   "cell_type": "markdown",
   "metadata": {},
   "source": [
    "## CHILD/FEMALE ADULT/MALE ADULT"
   ]
  },
  {
   "cell_type": "code",
   "execution_count": 5,
   "metadata": {},
   "outputs": [],
   "source": [
    "child_age = 18\n",
    "def get_person(passenger):\n",
    "    age, sex = passenger\n",
    "    if (age < child_age):\n",
    "        return 'child'\n",
    "    elif (sex == 'female'):\n",
    "        return 'female_adult'\n",
    "    else:\n",
    "        return 'male_adult'\n",
    "full = pd.concat([full, pd.DataFrame(full[['Age', 'Sex']].apply(get_person, axis=1), columns=['person'])],axis=1)\n",
    "full = pd.concat([full,pd.get_dummies(full['person'])],axis=1)"
   ]
  },
  {
   "cell_type": "markdown",
   "metadata": {},
   "source": [
    "## FEATURES BASED ON TICKET"
   ]
  },
  {
   "cell_type": "code",
   "execution_count": 6,
   "metadata": {},
   "outputs": [
    {
     "name": "stderr",
     "output_type": "stream",
     "text": [
      "C:\\ProgramData\\Anaconda3\\lib\\site-packages\\ipykernel\\__main__.py:8: SettingWithCopyWarning: \n",
      "A value is trying to be set on a copy of a slice from a DataFrame\n",
      "\n",
      "See the caveats in the documentation: http://pandas.pydata.org/pandas-docs/stable/indexing.html#indexing-view-versus-copy\n",
      "C:\\ProgramData\\Anaconda3\\lib\\site-packages\\ipykernel\\__main__.py:14: SettingWithCopyWarning: \n",
      "A value is trying to be set on a copy of a slice from a DataFrame\n",
      "\n",
      "See the caveats in the documentation: http://pandas.pydata.org/pandas-docs/stable/indexing.html#indexing-view-versus-copy\n",
      "C:\\ProgramData\\Anaconda3\\lib\\site-packages\\ipykernel\\__main__.py:18: SettingWithCopyWarning: \n",
      "A value is trying to be set on a copy of a slice from a DataFrame\n",
      "\n",
      "See the caveats in the documentation: http://pandas.pydata.org/pandas-docs/stable/indexing.html#indexing-view-versus-copy\n"
     ]
    }
   ],
   "source": [
    "table_ticket = pd.DataFrame(full[\"Ticket\"].value_counts())\n",
    "table_ticket.rename(columns={'Ticket':'Ticket_Members'}, inplace=True)\n",
    "\n",
    "table_ticket['Ticket_perishing_women'] = full.Ticket[(full.female_adult == 1.0) \n",
    "                                    & (full.Survived == 0.0) \n",
    "                                    & ((full.Parch > 0) | (full.SibSp > 0))].value_counts()\n",
    "table_ticket['Ticket_perishing_women'] = table_ticket['Ticket_perishing_women'].fillna(0)\n",
    "table_ticket['Ticket_perishing_women'][table_ticket['Ticket_perishing_women'] > 0] = 1.0 \n",
    "\n",
    "table_ticket['Ticket_surviving_men'] = full.Ticket[(full.male_adult == 1.0) \n",
    "                                    & (full.Survived == 1.0) \n",
    "                                    & ((full.Parch > 0) | (full.SibSp > 0))].value_counts()\n",
    "table_ticket['Ticket_surviving_men'] = table_ticket['Ticket_surviving_men'].fillna(0)\n",
    "table_ticket['Ticket_surviving_men'][table_ticket['Ticket_surviving_men'] > 0] = 1.0 \n",
    "\n",
    "table_ticket[\"Ticket_Id\"]= pd.Categorical(table_ticket.index).codes\n",
    "# compress under 3 members into one code.\n",
    "table_ticket[\"Ticket_Id\"][table_ticket[\"Ticket_Members\"] < 3 ] = -1\n",
    "table_ticket[\"Ticket_Members\"] = pd.cut(table_ticket[\"Ticket_Members\"], bins=[0,1,4,20], labels=[0,1,2])\n",
    "\n",
    "full = pd.merge(full, table_ticket, left_on=\"Ticket\",right_index=True,how='left', sort=False)"
   ]
  },
  {
   "cell_type": "markdown",
   "metadata": {},
   "source": [
    "## FEATURES BASED ON SURNAME"
   ]
  },
  {
   "cell_type": "code",
   "execution_count": 7,
   "metadata": {},
   "outputs": [
    {
     "name": "stderr",
     "output_type": "stream",
     "text": [
      "C:\\ProgramData\\Anaconda3\\lib\\site-packages\\ipykernel\\__main__.py:8: SettingWithCopyWarning: \n",
      "A value is trying to be set on a copy of a slice from a DataFrame\n",
      "\n",
      "See the caveats in the documentation: http://pandas.pydata.org/pandas-docs/stable/indexing.html#indexing-view-versus-copy\n",
      "C:\\ProgramData\\Anaconda3\\lib\\site-packages\\ipykernel\\__main__.py:14: SettingWithCopyWarning: \n",
      "A value is trying to be set on a copy of a slice from a DataFrame\n",
      "\n",
      "See the caveats in the documentation: http://pandas.pydata.org/pandas-docs/stable/indexing.html#indexing-view-versus-copy\n",
      "C:\\ProgramData\\Anaconda3\\lib\\site-packages\\ipykernel\\__main__.py:18: SettingWithCopyWarning: \n",
      "A value is trying to be set on a copy of a slice from a DataFrame\n",
      "\n",
      "See the caveats in the documentation: http://pandas.pydata.org/pandas-docs/stable/indexing.html#indexing-view-versus-copy\n"
     ]
    }
   ],
   "source": [
    "table_surname = pd.DataFrame(full[\"surname\"].value_counts())\n",
    "table_surname.rename(columns={'surname':'Surname_Members'}, inplace=True)\n",
    "\n",
    "table_surname['Surname_perishing_women'] = full.surname[(full.female_adult == 1.0) \n",
    "                                    & (full.Survived == 0.0) \n",
    "                                    & ((full.Parch > 0) | (full.SibSp > 0))].value_counts()\n",
    "table_surname['Surname_perishing_women'] = table_surname['Surname_perishing_women'].fillna(0)\n",
    "table_surname['Surname_perishing_women'][table_surname['Surname_perishing_women'] > 0] = 1.0 \n",
    "\n",
    "table_surname['Surname_surviving_men'] = full.surname[(full.male_adult == 1.0) \n",
    "                                    & (full.Survived == 1.0) \n",
    "                                    & ((full.Parch > 0) | (full.SibSp > 0))].value_counts()\n",
    "table_surname['Surname_surviving_men'] = table_surname['Surname_surviving_men'].fillna(0)\n",
    "table_surname['Surname_surviving_men'][table_surname['Surname_surviving_men'] > 0] = 1.0 \n",
    "\n",
    "table_surname[\"Surname_Id\"]= pd.Categorical(table_surname.index).codes\n",
    "# compress under 3 members into one code.\n",
    "table_surname[\"Surname_Id\"][table_surname[\"Surname_Members\"] < 3 ] = -1\n",
    "\n",
    "table_surname[\"Surname_Members\"] = pd.cut(table_surname[\"Surname_Members\"], bins=[0,1,4,20], labels=[0,1,2])\n",
    "\n",
    "full = pd.merge(full, table_surname, left_on=\"surname\",right_index=True,how='left', sort=False)\n"
   ]
  },
  {
   "cell_type": "markdown",
   "metadata": {},
   "source": [
    "## AGE PROCESSING"
   ]
  },
  {
   "cell_type": "code",
   "execution_count": 8,
   "metadata": {},
   "outputs": [
    {
     "name": "stderr",
     "output_type": "stream",
     "text": [
      "C:\\ProgramData\\Anaconda3\\lib\\site-packages\\ipykernel\\__main__.py:9: SettingWithCopyWarning: \n",
      "A value is trying to be set on a copy of a slice from a DataFrame\n",
      "\n",
      "See the caveats in the documentation: http://pandas.pydata.org/pandas-docs/stable/indexing.html#indexing-view-versus-copy\n"
     ]
    }
   ],
   "source": [
    "classers = ['Fare','Parch','Pclass','SibSp','TitleCat', \n",
    "'CabinCat','female','male', 'Embarked', 'FamilySize', 'NameLength','Ticket_Members','Ticket_Id']\n",
    "etr = ExtraTreesRegressor(n_estimators=200)\n",
    "X_train = full[classers][full['Age'].notnull()]\n",
    "Y_train = full['Age'][full['Age'].notnull()]\n",
    "X_test = full[classers][full['Age'].isnull()]\n",
    "etr.fit(X_train,np.ravel(Y_train))\n",
    "age_preds = etr.predict(X_test)\n",
    "full['Age'][full['Age'].isnull()] = age_preds"
   ]
  },
  {
   "cell_type": "code",
   "execution_count": 20,
   "metadata": {},
   "outputs": [
    {
     "data": {
      "text/plain": [
       "0.9459053107016463"
      ]
     },
     "execution_count": 20,
     "metadata": {},
     "output_type": "execute_result"
    }
   ],
   "source": [
    "etr.score(X = X_train, y = np.ravel(Y_train))"
   ]
  },
  {
   "cell_type": "code",
   "execution_count": 15,
   "metadata": {},
   "outputs": [
    {
     "data": {
      "text/html": [
       "<div>\n",
       "<table border=\"1\" class=\"dataframe\">\n",
       "  <thead>\n",
       "    <tr style=\"text-align: right;\">\n",
       "      <th></th>\n",
       "      <th>name</th>\n",
       "      <th>value</th>\n",
       "    </tr>\n",
       "  </thead>\n",
       "  <tbody>\n",
       "    <tr>\n",
       "      <th>2</th>\n",
       "      <td>Pclass</td>\n",
       "      <td>0.181333</td>\n",
       "    </tr>\n",
       "    <tr>\n",
       "      <th>10</th>\n",
       "      <td>NameLength</td>\n",
       "      <td>0.170488</td>\n",
       "    </tr>\n",
       "    <tr>\n",
       "      <th>4</th>\n",
       "      <td>TitleCat</td>\n",
       "      <td>0.151182</td>\n",
       "    </tr>\n",
       "    <tr>\n",
       "      <th>0</th>\n",
       "      <td>Fare</td>\n",
       "      <td>0.145211</td>\n",
       "    </tr>\n",
       "    <tr>\n",
       "      <th>1</th>\n",
       "      <td>Parch</td>\n",
       "      <td>0.079604</td>\n",
       "    </tr>\n",
       "    <tr>\n",
       "      <th>12</th>\n",
       "      <td>Ticket_Id</td>\n",
       "      <td>0.056551</td>\n",
       "    </tr>\n",
       "    <tr>\n",
       "      <th>11</th>\n",
       "      <td>Ticket_Members</td>\n",
       "      <td>0.040883</td>\n",
       "    </tr>\n",
       "    <tr>\n",
       "      <th>5</th>\n",
       "      <td>CabinCat</td>\n",
       "      <td>0.040003</td>\n",
       "    </tr>\n",
       "    <tr>\n",
       "      <th>8</th>\n",
       "      <td>Embarked</td>\n",
       "      <td>0.035632</td>\n",
       "    </tr>\n",
       "    <tr>\n",
       "      <th>3</th>\n",
       "      <td>SibSp</td>\n",
       "      <td>0.035177</td>\n",
       "    </tr>\n",
       "    <tr>\n",
       "      <th>7</th>\n",
       "      <td>male</td>\n",
       "      <td>0.022092</td>\n",
       "    </tr>\n",
       "    <tr>\n",
       "      <th>6</th>\n",
       "      <td>female</td>\n",
       "      <td>0.021813</td>\n",
       "    </tr>\n",
       "    <tr>\n",
       "      <th>9</th>\n",
       "      <td>FamilySize</td>\n",
       "      <td>0.020033</td>\n",
       "    </tr>\n",
       "  </tbody>\n",
       "</table>\n",
       "</div>"
      ],
      "text/plain": [
       "              name     value\n",
       "2           Pclass  0.181333\n",
       "10      NameLength  0.170488\n",
       "4         TitleCat  0.151182\n",
       "0             Fare  0.145211\n",
       "1            Parch  0.079604\n",
       "12       Ticket_Id  0.056551\n",
       "11  Ticket_Members  0.040883\n",
       "5         CabinCat  0.040003\n",
       "8         Embarked  0.035632\n",
       "3            SibSp  0.035177\n",
       "7             male  0.022092\n",
       "6           female  0.021813\n",
       "9       FamilySize  0.020033"
      ]
     },
     "execution_count": 15,
     "metadata": {},
     "output_type": "execute_result"
    }
   ],
   "source": [
    "pd.DataFrame({'name': X_train.columns, 'value': etr.feature_importances_}).sort_values('value', ascending=False)"
   ]
  },
  {
   "cell_type": "markdown",
   "metadata": {},
   "source": [
    "## Features"
   ]
  },
  {
   "cell_type": "code",
   "execution_count": 9,
   "metadata": {},
   "outputs": [
    {
     "name": "stdout",
     "output_type": "stream",
     "text": [
      "Features importance :\n",
      "68.85 female\n",
      "68.85 male\n",
      "64.90 male_adult\n",
      "53.23 female_adult\n",
      "26.22 TitleCat\n",
      "24.60 Pclass\n",
      "24.60 Pclass\n",
      "23.69 NameLength\n",
      "17.75 CabinCat\n",
      "17.00 Ticket_surviving_men\n",
      "16.28 CabinType\n",
      "14.21 Fare\n",
      "13.54 Ticket_perishing_women\n",
      "13.04 Surname_surviving_men\n",
      "10.36 Surname_perishing_women\n",
      "6.94 Embarked\n",
      "5.27 Ticket_Members\n",
      "3.59 child\n",
      "2.93 FamilySize\n",
      "1.83 Parch\n",
      "1.75 Age\n",
      "1.07 Ticket_Id\n",
      "0.73 Surname_Members\n",
      "0.53 SibSp\n"
     ]
    }
   ],
   "source": [
    "features = ['female','male','Age','male_adult','female_adult', 'child','TitleCat', 'Pclass',\n",
    "'Pclass','Ticket_Id','NameLength','CabinType','CabinCat', 'SibSp', 'Parch',\n",
    "'Fare','Embarked','Surname_Members','Ticket_Members','FamilySize',\n",
    "'Ticket_perishing_women','Ticket_surviving_men',\n",
    "'Surname_perishing_women','Surname_surviving_men']\n",
    "\n",
    "train = full[0:891].copy()\n",
    "test = full[891:].copy()\n",
    "\n",
    "selector = SelectKBest(f_classif, k=len(features))\n",
    "selector.fit(train[features], target)\n",
    "scores = -np.log10(selector.pvalues_)\n",
    "indices = np.argsort(scores)[::-1]\n",
    "print(\"Features importance :\")\n",
    "for f in range(len(scores)):\n",
    "    print(\"%0.2f %s\" % (scores[indices[f]],features[indices[f]]))"
   ]
  },
  {
   "cell_type": "markdown",
   "metadata": {},
   "source": [
    "## RandomForest"
   ]
  },
  {
   "cell_type": "code",
   "execution_count": 30,
   "metadata": {},
   "outputs": [
    {
     "name": "stdout",
     "output_type": "stream",
     "text": [
      "Accuracy: 89.450% (+/- 0.84%) RFC Cross Validation\n"
     ]
    }
   ],
   "source": [
    "rfc = RandomForestClassifier(n_estimators=3000, min_samples_split=4, class_weight={0:0.745,1:0.255})\n",
    "\n",
    "kf = KFold(n_splits=3, random_state=1)\n",
    "scores = cross_val_score(rfc, X=train[features], y=target, cv=kf)\n",
    "print(\"Accuracy: {:.3%} (+/- {:.2%}) {}\".format(scores.mean(), scores.std(), 'RFC Cross Validation'))\n",
    "#89.450% (+/- 0.84%)"
   ]
  },
  {
   "cell_type": "code",
   "execution_count": 28,
   "metadata": {
    "scrolled": false
   },
   "outputs": [
    {
     "name": "stdout",
     "output_type": "stream",
     "text": [
      "Accuracy: 95.398%            [%s]\n",
      "1. feature 3 (12.468828573438728) Age\n",
      "2. feature 16 (11.714040624464477) Fare\n",
      "3. feature 11 (11.498428632824275) NameLength\n",
      "4. feature 2 (7.273618344549418) male\n",
      "5. feature 7 (7.210379618976404) TitleCat\n",
      "6. feature 1 (6.452052085719301) female\n",
      "7. feature 8 (5.978853622527391) Pclass\n",
      "8. feature 9 (5.907795057312436) Pclass\n",
      "9. feature 4 (4.633493520367557) male_adult\n",
      "10. feature 5 (3.5492334937955055) female_adult\n",
      "11. feature 13 (3.3889728120287366) CabinCat\n",
      "12. feature 10 (2.963969334961041) Ticket_Id\n",
      "13. feature 19 (2.922498208191487) Ticket_Members\n",
      "14. feature 18 (2.5658178316364677) Surname_Members\n",
      "15. feature 12 (2.4766247771467773) CabinType\n",
      "16. feature 17 (2.4077855413963944) Embarked\n",
      "17. feature 20 (2.306201071961879) FamilySize\n",
      "18. feature 14 (1.9679278164265421) SibSp\n",
      "19. feature 15 (1.433501311500016) Parch\n",
      "20. feature 6 (0.8799777207752071) child\n"
     ]
    }
   ],
   "source": [
    "rfc.fit(train[features], target)\n",
    "score = rfc.score(train[features], target)\n",
    "print(\"Accuracy: {:.3%}            [%s]\".format(score, 'RFC full test'))\n",
    "\n",
    "importances = rfc.feature_importances_\n",
    "indices = np.argsort(importances)[::-1]\n",
    "for f in range(len(features)):\n",
    "    print(\"{}. feature {} ({}) {}\".format(f + 1, indices[f]+1, importances[indices[f]]*100, features[indices[f]]))"
   ]
  },
  {
   "cell_type": "markdown",
   "metadata": {},
   "source": [
    "## Prediction"
   ]
  },
  {
   "cell_type": "code",
   "execution_count": 29,
   "metadata": {
    "collapsed": true
   },
   "outputs": [],
   "source": [
    "rfc.fit(train[features], target)\n",
    "predictions = rfc.predict(test[features])\n",
    "PassengerId =np.array(test[\"PassengerId\"]).astype(int)\n",
    "my_prediction = pd.DataFrame(predictions, PassengerId, columns = [\"Survived\"])\n",
    "\n",
    "my_prediction.to_csv(\"my_prediction.csv\", index_label = [\"PassengerId\"])"
   ]
  }
 ],
 "metadata": {
  "kernelspec": {
   "display_name": "Python 3",
   "language": "python",
   "name": "python3"
  },
  "language_info": {
   "codemirror_mode": {
    "name": "ipython",
    "version": 3
   },
   "file_extension": ".py",
   "mimetype": "text/x-python",
   "name": "python",
   "nbconvert_exporter": "python",
   "pygments_lexer": "ipython3",
   "version": "3.6.1"
  }
 },
 "nbformat": 4,
 "nbformat_minor": 2
}
